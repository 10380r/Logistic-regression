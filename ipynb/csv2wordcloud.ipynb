{
 "cells": [
  {
   "cell_type": "code",
   "execution_count": null,
   "metadata": {},
   "outputs": [],
   "source": [
    "import csv\n",
    "import MeCab\n",
    "from wordcloud import WordCloud\n",
    "import sys\n",
    "\n",
    "#csvファイルを指定-------------\n",
    "csvFile = input('CSV file :')\n",
    "savename = input('Img savename : ')\n",
    "#------------\n",
    "\n",
    "csvFile = open(csvFile, \"r\", encoding=\"ms932\", errors=\"\", newline=\"\" )\n",
    "f = csv.reader(csvFile, delimiter=\",\", doublequote=True, lineterminator=\"\\r\\n\", quotechar='\"', skipinitialspace=True)\n",
    "li  = [i[0] for i in f]\n",
    "\n",
    "del li[0]\n",
    "text = ''\n",
    "for i in li:\n",
    "    text += i\n",
    "\n",
    "#mecabを使用して形態素解析\n",
    "m = MeCab.Tagger()\n",
    "keywords = m.parse(text)\n",
    "\n",
    "#空のリストを作成\n",
    "wordList = []\n",
    "\n",
    "for row in keywords.split('\\n'): #改行でスプリット\n",
    "    word = row.split('\\t')[0] #タブでスプリット\n",
    "    if word == 'EOS': #EOSが出たら終了\n",
    "        break\n",
    "    else:\n",
    "        pos = row.split('\\t')[1].split(',')[0] #\n",
    "        if pos == '名詞' or pos == '形容詞': #名詞と形容詞のみ抽出\n",
    "            wordList.append(word) #output_wordsにappend\n",
    "\n",
    "#対応するフォントのパスを以下に指定してください。\n",
    "fpath = \"/Library/Fonts/Ricty-Regular.ttf\"\n",
    "#------------------------------------------------\n",
    "\n",
    "texts = ''\n",
    "for i in wordList:\n",
    "    texts += i +' '\n",
    "\n",
    "wordcloud = WordCloud(background_color=\"white\", font_path=fpath, width=900, height=500).generate(texts)\n",
    "\n",
    "# 画像の生成\n",
    "wordcloud.to_file('results/'+ savename + '.png')\n",
    "print('\\nDone!')"
   ]
  },
  {
   "cell_type": "code",
   "execution_count": null,
   "metadata": {},
   "outputs": [],
   "source": []
  }
 ],
 "metadata": {
  "kernelspec": {
   "display_name": "Python 3",
   "language": "python",
   "name": "python3"
  },
  "language_info": {
   "codemirror_mode": {
    "name": "ipython",
    "version": 3
   },
   "file_extension": ".py",
   "mimetype": "text/x-python",
   "name": "python",
   "nbconvert_exporter": "python",
   "pygments_lexer": "ipython3",
   "version": "3.7.0"
  }
 },
 "nbformat": 4,
 "nbformat_minor": 2
}
