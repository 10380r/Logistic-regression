{
 "cells": [
  {
   "cell_type": "code",
   "execution_count": null,
   "metadata": {},
   "outputs": [],
   "source": [
    "import urllib.request\n",
    "from bs4 import BeautifulSoup\n",
    "import openpyxl as excel\n",
    "import sys\n",
    "\n",
    "pages = input('Pages :')\n",
    "savename = input('savename :')\n",
    "\n",
    "countForExcel = 1\n",
    "wb = excel.Workbook()\n",
    "ws = wb.active\n",
    "\n",
    "titleList = []\n",
    "\n",
    "for num in range(1,int(pages)):\n",
    "    url = 'https://www.cotta.jp/products/list.php?category_id=00'+str(num)\n",
    "\n",
    "    try:\n",
    "        html = urllib.request.urlopen(url)\n",
    "        soup = BeautifulSoup(html, 'html.parser')\n",
    "        title = soup.find('title').text.replace(' | お菓子・パン材料・ラッピングの通販【cotta＊コッタ】','')\n",
    "\n",
    "        if title in titleList:\n",
    "            continue\n",
    "        else:\n",
    "            titleList.append(title)\n",
    "            ws['A' + str(countForExcel)] = title\n",
    "            countForExcel += 1\n",
    "\n",
    "        sys.stdout.write('.')\n",
    "        sys.stdout.flush()\n",
    "\n",
    "    except urllib.error.HTTPError:\n",
    "        continue\n",
    "\n",
    "wb.save('results/'+ savename+'.xlsx')\n",
    "print('\\nDone!')"
   ]
  },
  {
   "cell_type": "code",
   "execution_count": null,
   "metadata": {},
   "outputs": [],
   "source": []
  }
 ],
 "metadata": {
  "kernelspec": {
   "display_name": "Python 3",
   "language": "python",
   "name": "python3"
  },
  "language_info": {
   "codemirror_mode": {
    "name": "ipython",
    "version": 3
   },
   "file_extension": ".py",
   "mimetype": "text/x-python",
   "name": "python",
   "nbconvert_exporter": "python",
   "pygments_lexer": "ipython3",
   "version": "3.7.0"
  }
 },
 "nbformat": 4,
 "nbformat_minor": 2
}
